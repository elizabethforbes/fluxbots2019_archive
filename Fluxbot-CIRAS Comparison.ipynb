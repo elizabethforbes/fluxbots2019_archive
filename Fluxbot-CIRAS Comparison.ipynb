{
 "cells": [
  {
   "cell_type": "markdown",
   "metadata": {},
   "source": [
    "Comparing our Fluxbot data to CIRAS data collected at the \"same\" time\n",
    "\n",
    "1. Load the CIRAS data\n",
    "1. Load the Fluxbots\n",
    "1. Find the closest event for each CIRAS data."
   ]
  },
  {
   "cell_type": "code",
   "execution_count": 91,
   "metadata": {},
   "outputs": [],
   "source": [
    "import pandas as pd\n",
    "import numpy as np\n",
    "import glob\n",
    "import random\n",
    "import matplotlib.pyplot as plot\n",
    "from datetime import datetime\n",
    "# import datetime"
   ]
  },
  {
   "cell_type": "markdown",
   "metadata": {},
   "source": [
    "## Step 1: Load up the CIRAS data and create a timestamp column"
   ]
  },
  {
   "cell_type": "code",
   "execution_count": 92,
   "metadata": {},
   "outputs": [],
   "source": [
    "# Get all the CIRAS data\n",
    "# NOTE: This does not include the `dblchk` files..\n",
    "ciras_dir = 'data/calval'\n",
    "file = ciras_dir + '/calval_CIRASdat_Jan21.csv'"
   ]
  },
  {
   "cell_type": "code",
   "execution_count": 93,
   "metadata": {},
   "outputs": [],
   "source": [
    "ciras_df = pd.read_csv(file)"
   ]
  },
  {
   "cell_type": "code",
   "execution_count": 130,
   "metadata": {},
   "outputs": [
    {
     "data": {
      "text/plain": [
       "<bound method NDFrame.head of     PLOT TRTMNT FEAT  BOTREP      BOTID  CIRASFLX_L  CIRASFLX_Q   \n",
       "0      N      O   OM       2    NO OM 2        2.55        2.47  \\\n",
       "1      N    MWC   OM       1  NMWC OM 1        3.47        3.07   \n",
       "2      N    MWC   OM       1  NMWC OM 1        4.03        3.62   \n",
       "3      N      O   OM       2    NO OM 2        2.60        2.50   \n",
       "4      N      O   UT       1    NO UT 1        1.81        1.36   \n",
       "..   ...    ...  ...     ...        ...         ...         ...   \n",
       "207    N      O   OS       2    NO OS 2        2.36        2.35   \n",
       "208    N    MWC   OM       1  NMWC OM 1        5.84        5.69   \n",
       "209    N    MWC   UT       3  NMWC UT 3        1.19        0.73   \n",
       "210    N    MWC   OM       1  NMWC OM 1        3.99        3.76   \n",
       "211    N    MWC   OM       1  NMWC OM 1        3.48        2.91   \n",
       "\n",
       "           CIRAS_T  timestamp  \n",
       "0    8/17/19 10:34 2019-08-17  \n",
       "1    8/15/19 12:05 2019-08-15  \n",
       "2    8/13/19 12:01 2019-08-13  \n",
       "3    8/20/19 10:36 2019-08-20  \n",
       "4    8/13/19 12:53 2019-08-13  \n",
       "..             ...        ...  \n",
       "207  8/22/19 11:16 2019-08-22  \n",
       "208   8/14/19 9:34 2019-08-14  \n",
       "209  8/13/19 11:37 2019-08-13  \n",
       "210   8/17/19 9:32 2019-08-17  \n",
       "211  8/16/19 14:40 2019-08-16  \n",
       "\n",
       "[212 rows x 9 columns]>"
      ]
     },
     "execution_count": 130,
     "metadata": {},
     "output_type": "execute_result"
    }
   ],
   "source": [
    "ciras_df.columns\n",
    "ciras_df.head"
   ]
  },
  {
   "cell_type": "code",
   "execution_count": 134,
   "metadata": {},
   "outputs": [
    {
     "data": {
      "text/plain": [
       "datetime64[ns, UTC]"
      ]
     },
     "execution_count": 134,
     "metadata": {},
     "output_type": "execute_result"
    }
   ],
   "source": [
    "# ciras_df['timestamp'] = pd.to_datetime(df.CIRAS_T)\n",
    "# ciras_df['timestamp'] = pd.to_datetime(ciras_df.CIRAS_T)\n",
    "# ciras_df['CIRAS_T'] = datetime.datetime\n",
    "\n",
    "\n",
    "# ciras_df['timestamp'] = datetime.(ciras_df['CIRAS_T'])\n",
    "# ciras_df['timestamp'] = np.datetime64(ciras_df['CIRAS_T'])\n",
    "# ciras_df['timestamp'] = ciras_df['timestamp'].astype(np.datetime64)\n",
    "ciras_df['timestamp'] = pd.to_datetime(ciras_df['CIRAS_T'], format = \"%m/%d/%y %H:%M\", utc=True)\n",
    "# ciras_df['timestamp'] = pd.to_datetime(ciras_df['CIRAS_T'], format = 'mixed')\n",
    "\n",
    "# ciras_df['timestamp'] = ciras_df['timestamp'].astype('datetime64[ns]')\n",
    "# ciras_df['timestamp'] = ciras_df['timestamp'].dt\n",
    "\n",
    "# ciras_df['timestamp'] = ciras_df['timestamp'].values.astype('datetime64[ns]')\n",
    "ciras_df['timestamp'].dtypes\n"
   ]
  },
  {
   "cell_type": "code",
   "execution_count": 143,
   "metadata": {},
   "outputs": [
    {
     "data": {
      "text/plain": [
       "<bound method NDFrame.head of 0     2019-08-17 10:34:00+00:00\n",
       "1     2019-08-15 12:05:00+00:00\n",
       "2     2019-08-13 12:01:00+00:00\n",
       "3     2019-08-20 10:36:00+00:00\n",
       "4     2019-08-13 12:53:00+00:00\n",
       "                 ...           \n",
       "207   2019-08-22 11:16:00+00:00\n",
       "208   2019-08-14 09:34:00+00:00\n",
       "209   2019-08-13 11:37:00+00:00\n",
       "210   2019-08-17 09:32:00+00:00\n",
       "211   2019-08-16 14:40:00+00:00\n",
       "Name: timestamp, Length: 212, dtype: datetime64[ns, UTC]>"
      ]
     },
     "execution_count": 143,
     "metadata": {},
     "output_type": "execute_result"
    }
   ],
   "source": [
    "ciras_df['timestamp'].head"
   ]
  },
  {
   "cell_type": "markdown",
   "metadata": {},
   "source": [
    "## Helper Functions to Read Data and Determine the \"Closest\" fluxbot observation"
   ]
  },
  {
   "cell_type": "code",
   "execution_count": 135,
   "metadata": {},
   "outputs": [],
   "source": [
    "def float_conv(x):\n",
    "    try:\n",
    "        return float(x)\n",
    "    except:\n",
    "        return np.nan\n",
    "\n",
    "locations = {\n",
    "    'OM': 'Termite Soil',\n",
    "    'UT': 'Under Tree',\n",
    "    'OS': 'Open Soil'\n",
    "}\n",
    "\n",
    "# def find_closest(ciras, fluxbots):\n",
    "#     this_treatment = ciras.TRTMNT\n",
    "#     this_location = locations[ciras.FEAT]\n",
    "#     this_replicate = ciras.BOTREP\n",
    "#     df = fluxbots[\n",
    "#         (fluxbots['treatment'] == this_treatment) & \n",
    "#         (fluxbots['location'] == this_feature) & \n",
    "#         (fluxbots['replicate'] == this_replicate)\n",
    "#     ]\n",
    "#     time_diffs = abs(df['timestamp'] - ciras.timestamp)\n",
    "#     result = np.where(time_diffs == np.amin(time_diffs))\n",
    "#     return df.iloc[result], np.amin(time_diffs)\n",
    "\n",
    "def find_closest(ciras_df, event_df):\n",
    "    this_treatment = ciras_df.TRTMNT\n",
    "    this_location = locations[ciras_df.FEAT]\n",
    "    this_replicate = ciras_df.BOTREP\n",
    "    df = event_df[\n",
    "        (event_df['treatment'] == this_treatment) & \n",
    "        (event_df['location'] == this_location) & \n",
    "        (event_df['replicate'] == this_replicate)\n",
    "    ]\n",
    "    time_diffs = abs(df['timestamp'] - ciras_df.timestamp)\n",
    "    result = np.where(time_diffs == np.amin(time_diffs))\n",
    "    return df.iloc[result], np.amin(time_diffs)\n"
   ]
  },
  {
   "cell_type": "markdown",
   "metadata": {},
   "source": [
    "# Step 2: Load up all the fluxbot data."
   ]
  },
  {
   "cell_type": "code",
   "execution_count": 136,
   "metadata": {},
   "outputs": [],
   "source": [
    "#event_file = 'data/avgP/all_events_with_bad_20.csv'\n",
    "event_file = 'data/avgP/fluxes_allestimates_withbad.csv'\n",
    "\n",
    "\n",
    "event_df = pd.read_csv(event_file, low_memory=False, converters={ \n",
    "    'ambient_CO2_kg':float_conv, \n",
    "    'ambient_CO2_ppm':float_conv, \n",
    "    'flux_umol_m2_sec':float_conv,\n",
    "    'flux_max_umol_m2_sec':float_conv,\n",
    "    'flux_min_umol_m2_sec':float_conv\n",
    "})"
   ]
  },
  {
   "cell_type": "markdown",
   "metadata": {},
   "source": [
    "# # convert the timestamp column to datetime:"
   ]
  },
  {
   "cell_type": "code",
   "execution_count": 137,
   "metadata": {},
   "outputs": [
    {
     "data": {
      "text/html": [
       "<div>\n",
       "<style scoped>\n",
       "    .dataframe tbody tr th:only-of-type {\n",
       "        vertical-align: middle;\n",
       "    }\n",
       "\n",
       "    .dataframe tbody tr th {\n",
       "        vertical-align: top;\n",
       "    }\n",
       "\n",
       "    .dataframe thead th {\n",
       "        text-align: right;\n",
       "    }\n",
       "</style>\n",
       "<table border=\"1\" class=\"dataframe\">\n",
       "  <thead>\n",
       "    <tr style=\"text-align: right;\">\n",
       "      <th></th>\n",
       "      <th>Unnamed: 0</th>\n",
       "      <th>timestamp</th>\n",
       "      <th>year</th>\n",
       "      <th>month</th>\n",
       "      <th>day</th>\n",
       "      <th>hour</th>\n",
       "      <th>event_number</th>\n",
       "      <th>avg_temp_degC</th>\n",
       "      <th>avg_pressure_hPa</th>\n",
       "      <th>avg_rel_humidity</th>\n",
       "      <th>...</th>\n",
       "      <th>flux_max_umol_m2_sec</th>\n",
       "      <th>flux_min_umol_m2_sec</th>\n",
       "      <th>qaqc_flags</th>\n",
       "      <th>datafile</th>\n",
       "      <th>chamber_volume_cm3</th>\n",
       "      <th>chamber_area_cm2</th>\n",
       "      <th>treatment</th>\n",
       "      <th>block</th>\n",
       "      <th>location</th>\n",
       "      <th>replicate</th>\n",
       "    </tr>\n",
       "  </thead>\n",
       "  <tbody>\n",
       "    <tr>\n",
       "      <th>0</th>\n",
       "      <td>1</td>\n",
       "      <td>2019-08-03T18:55:06+00:00</td>\n",
       "      <td>2019</td>\n",
       "      <td>8</td>\n",
       "      <td>3</td>\n",
       "      <td>19</td>\n",
       "      <td>0</td>\n",
       "      <td>18.3</td>\n",
       "      <td>830.4</td>\n",
       "      <td>64.7</td>\n",
       "      <td>...</td>\n",
       "      <td>2.394</td>\n",
       "      <td>2.089</td>\n",
       "      <td>0</td>\n",
       "      <td>data/avgP/NMWC_OM1.csv</td>\n",
       "      <td>2758</td>\n",
       "      <td>145.5</td>\n",
       "      <td>MWC</td>\n",
       "      <td>Northern</td>\n",
       "      <td>Termite Soil</td>\n",
       "      <td>1</td>\n",
       "    </tr>\n",
       "    <tr>\n",
       "      <th>1</th>\n",
       "      <td>2</td>\n",
       "      <td>2019-08-03T19:55:21+00:00</td>\n",
       "      <td>2019</td>\n",
       "      <td>8</td>\n",
       "      <td>3</td>\n",
       "      <td>20</td>\n",
       "      <td>1</td>\n",
       "      <td>16.7</td>\n",
       "      <td>832.7</td>\n",
       "      <td>74.5</td>\n",
       "      <td>...</td>\n",
       "      <td>5.579</td>\n",
       "      <td>5.462</td>\n",
       "      <td>0</td>\n",
       "      <td>data/avgP/NMWC_OM1.csv</td>\n",
       "      <td>2758</td>\n",
       "      <td>145.5</td>\n",
       "      <td>MWC</td>\n",
       "      <td>Northern</td>\n",
       "      <td>Termite Soil</td>\n",
       "      <td>1</td>\n",
       "    </tr>\n",
       "    <tr>\n",
       "      <th>2</th>\n",
       "      <td>3</td>\n",
       "      <td>2019-08-03T20:55:21+00:00</td>\n",
       "      <td>2019</td>\n",
       "      <td>8</td>\n",
       "      <td>3</td>\n",
       "      <td>21</td>\n",
       "      <td>2</td>\n",
       "      <td>16.1</td>\n",
       "      <td>833.7</td>\n",
       "      <td>81.8</td>\n",
       "      <td>...</td>\n",
       "      <td>6.859</td>\n",
       "      <td>6.614</td>\n",
       "      <td>0</td>\n",
       "      <td>data/avgP/NMWC_OM1.csv</td>\n",
       "      <td>2758</td>\n",
       "      <td>145.5</td>\n",
       "      <td>MWC</td>\n",
       "      <td>Northern</td>\n",
       "      <td>Termite Soil</td>\n",
       "      <td>1</td>\n",
       "    </tr>\n",
       "    <tr>\n",
       "      <th>3</th>\n",
       "      <td>4</td>\n",
       "      <td>2019-08-03T21:55:21+00:00</td>\n",
       "      <td>2019</td>\n",
       "      <td>8</td>\n",
       "      <td>3</td>\n",
       "      <td>22</td>\n",
       "      <td>3</td>\n",
       "      <td>15.4</td>\n",
       "      <td>834.6</td>\n",
       "      <td>91.7</td>\n",
       "      <td>...</td>\n",
       "      <td>8.262</td>\n",
       "      <td>7.465</td>\n",
       "      <td>0</td>\n",
       "      <td>data/avgP/NMWC_OM1.csv</td>\n",
       "      <td>2758</td>\n",
       "      <td>145.5</td>\n",
       "      <td>MWC</td>\n",
       "      <td>Northern</td>\n",
       "      <td>Termite Soil</td>\n",
       "      <td>1</td>\n",
       "    </tr>\n",
       "    <tr>\n",
       "      <th>4</th>\n",
       "      <td>5</td>\n",
       "      <td>2019-08-03T22:55:21+00:00</td>\n",
       "      <td>2019</td>\n",
       "      <td>8</td>\n",
       "      <td>3</td>\n",
       "      <td>23</td>\n",
       "      <td>4</td>\n",
       "      <td>14.7</td>\n",
       "      <td>836.2</td>\n",
       "      <td>92.7</td>\n",
       "      <td>...</td>\n",
       "      <td>9.449</td>\n",
       "      <td>9.093</td>\n",
       "      <td>0</td>\n",
       "      <td>data/avgP/NMWC_OM1.csv</td>\n",
       "      <td>2758</td>\n",
       "      <td>145.5</td>\n",
       "      <td>MWC</td>\n",
       "      <td>Northern</td>\n",
       "      <td>Termite Soil</td>\n",
       "      <td>1</td>\n",
       "    </tr>\n",
       "  </tbody>\n",
       "</table>\n",
       "<p>5 rows × 39 columns</p>\n",
       "</div>"
      ],
      "text/plain": [
       "   Unnamed: 0                  timestamp  year  month  day  hour   \n",
       "0           1  2019-08-03T18:55:06+00:00  2019      8    3    19  \\\n",
       "1           2  2019-08-03T19:55:21+00:00  2019      8    3    20   \n",
       "2           3  2019-08-03T20:55:21+00:00  2019      8    3    21   \n",
       "3           4  2019-08-03T21:55:21+00:00  2019      8    3    22   \n",
       "4           5  2019-08-03T22:55:21+00:00  2019      8    3    23   \n",
       "\n",
       "   event_number  avg_temp_degC  avg_pressure_hPa  avg_rel_humidity  ...   \n",
       "0             0           18.3             830.4              64.7  ...  \\\n",
       "1             1           16.7             832.7              74.5  ...   \n",
       "2             2           16.1             833.7              81.8  ...   \n",
       "3             3           15.4             834.6              91.7  ...   \n",
       "4             4           14.7             836.2              92.7  ...   \n",
       "\n",
       "   flux_max_umol_m2_sec  flux_min_umol_m2_sec  qaqc_flags   \n",
       "0                 2.394                 2.089           0  \\\n",
       "1                 5.579                 5.462           0   \n",
       "2                 6.859                 6.614           0   \n",
       "3                 8.262                 7.465           0   \n",
       "4                 9.449                 9.093           0   \n",
       "\n",
       "                 datafile  chamber_volume_cm3  chamber_area_cm2  treatment   \n",
       "0  data/avgP/NMWC_OM1.csv                2758             145.5        MWC  \\\n",
       "1  data/avgP/NMWC_OM1.csv                2758             145.5        MWC   \n",
       "2  data/avgP/NMWC_OM1.csv                2758             145.5        MWC   \n",
       "3  data/avgP/NMWC_OM1.csv                2758             145.5        MWC   \n",
       "4  data/avgP/NMWC_OM1.csv                2758             145.5        MWC   \n",
       "\n",
       "      block      location  replicate  \n",
       "0  Northern  Termite Soil          1  \n",
       "1  Northern  Termite Soil          1  \n",
       "2  Northern  Termite Soil          1  \n",
       "3  Northern  Termite Soil          1  \n",
       "4  Northern  Termite Soil          1  \n",
       "\n",
       "[5 rows x 39 columns]"
      ]
     },
     "execution_count": 137,
     "metadata": {},
     "output_type": "execute_result"
    }
   ],
   "source": [
    "event_df.head()\n",
    "# event_df.timestamp.dtype\n",
    "# datetime64[ns, UTC]"
   ]
  },
  {
   "cell_type": "code",
   "execution_count": 138,
   "metadata": {},
   "outputs": [],
   "source": [
    "# event_df['timestamp'] = pd.to_datetime(event_df['timestamp'], format = 'ISO8601')\n",
    "# event_df['timestamp'] = event_df['timestamp'].astype('datetime64[ns]')\n",
    "\n",
    "# event_df['timestamp'] = event_df['timestamp'].tz_localize(None)\n",
    "# event_df['timestamp'].dtype\n",
    "\n",
    "#event_df['timestamp'] = pd.to_datetime(event_df['timestamp'], format='%Y-%m-%d ')\n",
    "#event_df['timestamp'] = datetime.datetime.strptime(event_df['timestamp'], \"%Y-%m-%dT%H:%M:%S%z\")\n",
    "# event_df['timestamp'] = datetime.datetime(event_df['timestamp'])\n",
    "# event_df.timestamp.dtype\n",
    "\n",
    "event_df['timestamp'] = pd.to_datetime(event_df['timestamp'], format = 'mixed')"
   ]
  },
  {
   "cell_type": "code",
   "execution_count": 139,
   "metadata": {},
   "outputs": [
    {
     "data": {
      "text/plain": [
       "datetime64[ns, UTC]"
      ]
     },
     "execution_count": 139,
     "metadata": {},
     "output_type": "execute_result"
    }
   ],
   "source": [
    "# check dtypes of the cols in event_df\n",
    "event_df['timestamp'].dtypes"
   ]
  },
  {
   "cell_type": "markdown",
   "metadata": {},
   "source": [
    "## Merge the CIRAS data with the closest fluxbot observation."
   ]
  },
  {
   "cell_type": "code",
   "execution_count": 145,
   "metadata": {},
   "outputs": [],
   "source": [
    "# We will make a list of individual rows; each row is a dataframe that combines the CIRAS and the Fluxbot data.\n",
    "joined_rows = []\n",
    "\n",
    "# Iterate over each of the rows.\n",
    "for i, row in ciras_df.iterrows():\n",
    "    closest, dT = find_closest(row, event_df)\n",
    "    closest = closest.reset_index()\n",
    "    this_row = pd.DataFrame(row).T\n",
    "    this_row = this_row.reset_index()\n",
    "    this_obs = this_row.join(closest, how='outer', rsuffix='_fluxbot', lsuffix='_ciras')\n",
    "    this_obs['delta_T'] = dT\n",
    "    joined_rows.append(this_obs)\n",
    "\n",
    "# calval_df = pd.concat([rows for rows in joined_rows])\n",
    "calval_df_3 = pd.concat([rows for rows in joined_rows])"
   ]
  },
  {
   "cell_type": "markdown",
   "metadata": {},
   "source": [
    "## Write new calval doc to csv: "
   ]
  },
  {
   "cell_type": "code",
   "execution_count": 153,
   "metadata": {},
   "outputs": [],
   "source": [
    "# calval_df.to_csv('data/ciras_fluxbot_calval.csv')\n",
    "calval_df_3.to_csv('data/ciras_fluxbot_calval_3.csv')"
   ]
  },
  {
   "cell_type": "code",
   "execution_count": 147,
   "metadata": {},
   "outputs": [
    {
     "data": {
      "image/png": "[encoded data removed]",
      "text/plain": [
       "<Figure size 640x480 with 1 Axes>"
      ]
     },
     "metadata": {},
     "output_type": "display_data"
    }
   ],
   "source": [
    "# plot.plot(calval_df['flux_umol_m2_sec'], calval_df['CIRASFLX_L'],'.')\n",
    "plot.plot(calval_df_3['flux_umol_m2_sec'], calval_df_2['CIRASFLX_L'],'.')\n",
    "plot.show()"
   ]
  },
  {
   "cell_type": "code",
   "execution_count": 152,
   "metadata": {},
   "outputs": [
    {
     "data": {
      "text/plain": [
       "<bound method NDFrame.head of     index_ciras PLOT TRTMNT FEAT BOTREP      BOTID CIRASFLX_L CIRASFLX_Q   \n",
       "0             0    N      O   OM      2    NO OM 2       2.55       2.47  \\\n",
       "0             1    N    MWC   OM      1  NMWC OM 1       3.47       3.07   \n",
       "0             2    N    MWC   OM      1  NMWC OM 1       4.03       3.62   \n",
       "0             3    N      O   OM      2    NO OM 2        2.6        2.5   \n",
       "0             4    N      O   UT      1    NO UT 1       1.81       1.36   \n",
       "..          ...  ...    ...  ...    ...        ...        ...        ...   \n",
       "0           207    N      O   OS      2    NO OS 2       2.36       2.35   \n",
       "0           208    N    MWC   OM      1  NMWC OM 1       5.84       5.69   \n",
       "0           209    N    MWC   UT      3  NMWC UT 3       1.19       0.73   \n",
       "0           210    N    MWC   OM      1  NMWC OM 1       3.99       3.76   \n",
       "0           211    N    MWC   OM      1  NMWC OM 1       3.48       2.91   \n",
       "\n",
       "          CIRAS_T           timestamp_ciras  ...  flux_min_umol_m2_sec   \n",
       "0   8/17/19 10:34 2019-08-17 10:34:00+00:00  ...                 5.676  \\\n",
       "0   8/15/19 12:05 2019-08-15 12:05:00+00:00  ...                33.111   \n",
       "0   8/13/19 12:01 2019-08-13 12:01:00+00:00  ...                 8.635   \n",
       "0   8/20/19 10:36 2019-08-20 10:36:00+00:00  ...                 9.329   \n",
       "0   8/13/19 12:53 2019-08-13 12:53:00+00:00  ...                 4.606   \n",
       "..            ...                       ...  ...                   ...   \n",
       "0   8/22/19 11:16 2019-08-22 11:16:00+00:00  ...                 0.818   \n",
       "0    8/14/19 9:34 2019-08-14 09:34:00+00:00  ...                33.781   \n",
       "0   8/13/19 11:37 2019-08-13 11:37:00+00:00  ...                 0.769   \n",
       "0    8/17/19 9:32 2019-08-17 09:32:00+00:00  ...                38.922   \n",
       "0   8/16/19 14:40 2019-08-16 14:40:00+00:00  ...                48.779   \n",
       "\n",
       "    qaqc_flags                datafile  chamber_volume_cm3  chamber_area_cm2   \n",
       "0            0    data/avgP/NO_OM2.csv                2758             145.5  \\\n",
       "0            0  data/avgP/NMWC_OM1.csv                2758             145.5   \n",
       "0            0  data/avgP/NMWC_OM1.csv                2758             145.5   \n",
       "0            0    data/avgP/NO_OM2.csv                2758             145.5   \n",
       "0            0    data/avgP/NO_UT1.csv                2758             145.5   \n",
       "..         ...                     ...                 ...               ...   \n",
       "0            0    data/avgP/NO_OS2.csv                2758             145.5   \n",
       "0            0  data/avgP/NMWC_OM1.csv                2758             145.5   \n",
       "0            0  data/avgP/NMWC_UT3.csv                2758             145.5   \n",
       "0            0  data/avgP/NMWC_OM1.csv                2758             145.5   \n",
       "0            0  data/avgP/NMWC_OM1.csv                2758             145.5   \n",
       "\n",
       "    treatment     block      location  replicate         delta_T  \n",
       "0           O  Northern  Termite Soil          2 0 days 00:21:21  \n",
       "0         MWC  Northern  Termite Soil          1 0 days 00:09:39  \n",
       "0         MWC  Northern  Termite Soil          1 0 days 00:04:42  \n",
       "0           O  Northern  Termite Soil          2 0 days 00:19:21  \n",
       "0           O  Northern    Under Tree          1 0 days 00:02:21  \n",
       "..        ...       ...           ...        ...             ...  \n",
       "0           O  Northern     Open Soil          2 0 days 01:39:21  \n",
       "0         MWC  Northern  Termite Soil          1 0 days 00:22:18  \n",
       "0         MWC  Northern    Under Tree          3 0 days 00:18:21  \n",
       "0         MWC  Northern  Termite Soil          1 0 days 00:36:39  \n",
       "0         MWC  Northern  Termite Soil          1 0 days 00:15:21  \n",
       "\n",
       "[212 rows x 51 columns]>"
      ]
     },
     "execution_count": 152,
     "metadata": {},
     "output_type": "execute_result"
    }
   ],
   "source": [
    "# calval_df_3.timestamp_fluxbot\n",
    "# calval_df_3.dtypes\n",
    "calval_df_3.head"
   ]
  }
 ],
 "metadata": {
  "kernelspec": {
   "display_name": "Python 3 (ipykernel)",
   "language": "python",
   "name": "python3"
  },
  "language_info": {
   "codemirror_mode": {
    "name": "ipython",
    "version": 3
   },
   "file_extension": ".py",
   "mimetype": "text/x-python",
   "name": "python",
   "nbconvert_exporter": "python",
   "pygments_lexer": "ipython3",
   "version": "3.11.2"
  }
 },
 "nbformat": 4,
 "nbformat_minor": 4
}
