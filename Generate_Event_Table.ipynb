{
 "cells": [
  {
   "cell_type": "markdown",
   "metadata": {},
   "source": [
    "# Generate Flux Event Table\n",
    "\n",
    "This notebook analyzes every fluxbot and each event in order to generate a single dataframe of our flux estimates. This dataframe is then written out as `all_events.csv`. The `.csv` file is the basis for subequent analyses that will be included in our manuscript. As such, this notebook should be fully executable using only the files and code contained in our repository."
   ]
  },
  {
   "cell_type": "code",
   "execution_count": 1,
   "metadata": {},
   "outputs": [],
   "source": [
    "import pandas as pd\n",
    "import numpy as np\n",
    "from fluxbot import Fluxbot\n",
    "%matplotlib inline"
   ]
  },
  {
   "cell_type": "markdown",
   "metadata": {},
   "source": [
    "## Load Datafiles.\n",
    "\n",
    "Our raw datafiles are contained in the `/data` directory that is contained in this repository. A permanent link to these raw data can be found [here]()."
   ]
  },
  {
   "cell_type": "code",
   "execution_count": 2,
   "metadata": {},
   "outputs": [
    {
     "name": "stdout",
     "output_type": "stream",
     "text": [
      "['data/NMWC OM1.csv', 'data/NMWC OM3.csv', 'data/NMWC OM2.csv', 'data/NO OM1.csv', 'data/NO OM2.csv', 'data/NO OM3.csv', 'data/NO OS2.csv', 'data/NMWC UT1.csv', 'data/NO OS3.csv', 'data/NO OS1.csv', 'data/NMWC UT2.csv', 'data/NMWC UT3.csv', 'data/NMWC OS3.csv', 'data/NO UT1.csv', 'data/NMWC OS2.csv', 'data/NO UT3.csv', 'data/NO UT2.csv', 'data/NMWC OS1.csv']\n"
     ]
    }
   ],
   "source": [
    "import glob\n",
    "data_files = glob.glob(\"{dir}/*[A-Z][0-9].csv\".format(dir='data'))\n",
    "print(data_files)"
   ]
  },
  {
   "cell_type": "code",
   "execution_count": 3,
   "metadata": {},
   "outputs": [
    {
     "name": "stderr",
     "output_type": "stream",
     "text": [
      "/Users/kellycaylor/Documents/dev/fluxbots/fluxbot.py:937: SettingWithCopyWarning:\n",
      "\n",
      "\n",
      "A value is trying to be set on a copy of a slice from a DataFrame.\n",
      "Try using .loc[row_indexer,col_indexer] = value instead\n",
      "\n",
      "See the caveats in the documentation: http://pandas.pydata.org/pandas-docs/stable/user_guide/indexing.html#returning-a-view-versus-a-copy\n",
      "\n"
     ]
    },
    {
     "name": "stdout",
     "output_type": "stream",
     "text": [
      "Generating output for events and bad events\n"
     ]
    }
   ],
   "source": [
    "data_file = data_files[0]\n",
    "fluxbot = Fluxbot(filename=data_file)\n",
    "fluxbot.generate_output(valid_only=False)"
   ]
  },
  {
   "cell_type": "code",
   "execution_count": 4,
   "metadata": {},
   "outputs": [
    {
     "data": {
      "text/html": [
       "<div>\n",
       "<style scoped>\n",
       "    .dataframe tbody tr th:only-of-type {\n",
       "        vertical-align: middle;\n",
       "    }\n",
       "\n",
       "    .dataframe tbody tr th {\n",
       "        vertical-align: top;\n",
       "    }\n",
       "\n",
       "    .dataframe thead th {\n",
       "        text-align: right;\n",
       "    }\n",
       "</style>\n",
       "<table border=\"1\" class=\"dataframe\">\n",
       "  <thead>\n",
       "    <tr style=\"text-align: right;\">\n",
       "      <th></th>\n",
       "      <th>timestamp</th>\n",
       "      <th>year</th>\n",
       "      <th>month</th>\n",
       "      <th>day</th>\n",
       "      <th>hour</th>\n",
       "      <th>event_number</th>\n",
       "      <th>avg_temp_degC</th>\n",
       "      <th>avg_pressure_hPa</th>\n",
       "      <th>avg_rel_humidity</th>\n",
       "      <th>ambient_CO2_kg</th>\n",
       "      <th>...</th>\n",
       "      <th>2nd_order_beta_0_max</th>\n",
       "      <th>2nd_order_beta_0_min</th>\n",
       "      <th>2nd_order_beta_1</th>\n",
       "      <th>2nd_order_beta_1_max</th>\n",
       "      <th>2nd_order_beta_1_min</th>\n",
       "      <th>2nd_order_r_sq</th>\n",
       "      <th>flux_umol_m2_sec</th>\n",
       "      <th>flux_max_umol_m2_sec</th>\n",
       "      <th>flux_min_umol_m2_sec</th>\n",
       "      <th>qaqc_flags</th>\n",
       "    </tr>\n",
       "  </thead>\n",
       "  <tbody>\n",
       "    <tr>\n",
       "      <th>0</th>\n",
       "      <td>2019-08-05T21:55:21</td>\n",
       "      <td>2019</td>\n",
       "      <td>8</td>\n",
       "      <td>5</td>\n",
       "      <td>22</td>\n",
       "      <td>50</td>\n",
       "      <td>16.3</td>\n",
       "      <td>833.2</td>\n",
       "      <td>69.7</td>\n",
       "      <td>1.13E-06</td>\n",
       "      <td>...</td>\n",
       "      <td>6.96E-09</td>\n",
       "      <td>6.87E-09</td>\n",
       "      <td>-2.46E-12</td>\n",
       "      <td>4.51E-11</td>\n",
       "      <td>-5.00E-11</td>\n",
       "      <td>0.996</td>\n",
       "      <td>10.802</td>\n",
       "      <td>10.876</td>\n",
       "      <td>10.728</td>\n",
       "      <td>0000</td>\n",
       "    </tr>\n",
       "  </tbody>\n",
       "</table>\n",
       "<p>1 rows × 29 columns</p>\n",
       "</div>"
      ],
      "text/plain": [
       "             timestamp  year  month  day  hour  event_number avg_temp_degC  \\\n",
       "0  2019-08-05T21:55:21  2019      8    5    22            50          16.3   \n",
       "\n",
       "  avg_pressure_hPa avg_rel_humidity ambient_CO2_kg  ... 2nd_order_beta_0_max  \\\n",
       "0            833.2             69.7       1.13E-06  ...             6.96E-09   \n",
       "\n",
       "  2nd_order_beta_0_min  2nd_order_beta_1 2nd_order_beta_1_max  \\\n",
       "0             6.87E-09         -2.46E-12             4.51E-11   \n",
       "\n",
       "  2nd_order_beta_1_min 2nd_order_r_sq flux_umol_m2_sec flux_max_umol_m2_sec  \\\n",
       "0            -5.00E-11          0.996           10.802               10.876   \n",
       "\n",
       "  flux_min_umol_m2_sec qaqc_flags  \n",
       "0               10.728       0000  \n",
       "\n",
       "[1 rows x 29 columns]"
      ]
     },
     "execution_count": 4,
     "metadata": {},
     "output_type": "execute_result"
    }
   ],
   "source": [
    "fluxbot.events[50].calculate_flux()\n",
    "fluxbot.events[50].output()"
   ]
  },
  {
   "cell_type": "markdown",
   "metadata": {},
   "source": [
    "## Create a List of Fluxbots\n",
    "\n",
    "This first step takes the longest amount of time. As each fluxbot is loaded, we parse the data and extract events from the raw fluxbot datafile. These events are then analyzed to:\n",
    "\n",
    "* extract ambient CO$_2$ concentrations from data for each event\n",
    "* transform CO$_2$ concentrations into mass\n",
    "* re-baseline CO$_2$ mass for each event into a difference from initial condition. \n",
    "* fit polynomials to the changes in CO$_2$ mass using linear, 2nd-order, and cubic fits.\n",
    "* save polynomial parameters, R$^2$ values, and parameter uncertainty estimates\n",
    "* generate event output\n",
    "* write out the flux calculations for each fluxbot\n"
   ]
  },
  {
   "cell_type": "code",
   "execution_count": 5,
   "metadata": {},
   "outputs": [
    {
     "name": "stdout",
     "output_type": "stream",
     "text": [
      "Doing calculations for data/NMWC OM1.csv\n",
      "Generating output for Northern MWC Plot, Termite Soil Replicate 1\n",
      "Generating output for events and bad events\n",
      "Writing output file data/NMWC_OM1_output_20.csv\n",
      "Doing calculations for data/NMWC OM3.csv\n",
      "Generating output for Northern MWC Plot, Termite Soil Replicate 3\n",
      "Generating output for events and bad events\n",
      "Writing output file data/NMWC_OM3_output_20.csv\n",
      "Doing calculations for data/NMWC OM2.csv\n",
      "Generating output for Northern MWC Plot, Termite Soil Replicate 2\n",
      "Generating output for events and bad events\n",
      "Writing output file data/NMWC_OM2_output_20.csv\n",
      "Doing calculations for data/NO OM1.csv\n",
      "Generating output for Northern O Plot, Termite Soil Replicate 1\n",
      "Generating output for events and bad events\n",
      "Writing output file data/NO_OM1_output_20.csv\n",
      "Doing calculations for data/NO OM2.csv\n",
      "Generating output for Northern O Plot, Termite Soil Replicate 2\n",
      "Generating output for events and bad events\n",
      "Writing output file data/NO_OM2_output_20.csv\n",
      "Doing calculations for data/NO OM3.csv\n",
      "Generating output for Northern O Plot, Termite Soil Replicate 3\n",
      "Generating output for events and bad events\n",
      "Writing output file data/NO_OM3_output_20.csv\n",
      "Doing calculations for data/NO OS2.csv\n"
     ]
    },
    {
     "name": "stderr",
     "output_type": "stream",
     "text": [
      "/Users/kellycaylor/Documents/dev/fluxbots/fluxbot.py:125: RuntimeWarning:\n",
      "\n",
      "invalid value encountered in double_scalars\n",
      "\n"
     ]
    },
    {
     "name": "stdout",
     "output_type": "stream",
     "text": [
      "Generating output for Northern O Plot, Open Soil Replicate 2\n",
      "Generating output for events and bad events\n",
      "Writing output file data/NO_OS2_output_20.csv\n",
      "Doing calculations for data/NMWC UT1.csv\n",
      "Generating output for Northern MWC Plot, Under Tree Replicate 1\n",
      "Generating output for events and bad events\n",
      "Writing output file data/NMWC_UT1_output_20.csv\n",
      "Doing calculations for data/NO OS3.csv\n",
      "Generating output for Northern O Plot, Open Soil Replicate 3\n",
      "Generating output for events and bad events\n",
      "Writing output file data/NO_OS3_output_20.csv\n",
      "Doing calculations for data/NO OS1.csv\n",
      "Generating output for Northern O Plot, Open Soil Replicate 1\n",
      "Generating output for events and bad events\n",
      "Writing output file data/NO_OS1_output_20.csv\n",
      "Doing calculations for data/NMWC UT2.csv\n",
      "Generating output for Northern MWC Plot, Under Tree Replicate 2\n",
      "Generating output for events and bad events\n",
      "Writing output file data/NMWC_UT2_output_20.csv\n",
      "Doing calculations for data/NMWC UT3.csv\n",
      "Generating output for Northern MWC Plot, Under Tree Replicate 3\n",
      "Generating output for events and bad events\n",
      "Writing output file data/NMWC_UT3_output_20.csv\n",
      "Doing calculations for data/NMWC OS3.csv\n",
      "Generating output for Northern MWC Plot, Open Soil Replicate 3\n",
      "Generating output for events and bad events\n",
      "Writing output file data/NMWC_OS3_output_20.csv\n",
      "Doing calculations for data/NO UT1.csv\n",
      "Generating output for Northern O Plot, Under Tree Replicate 1\n",
      "Generating output for events and bad events\n",
      "Writing output file data/NO_UT1_output_20.csv\n",
      "Doing calculations for data/NMWC OS2.csv\n"
     ]
    },
    {
     "name": "stderr",
     "output_type": "stream",
     "text": [
      "/Users/kellycaylor/Documents/dev/fluxbots/fluxbot.py:120: RuntimeWarning:\n",
      "\n",
      "divide by zero encountered in double_scalars\n",
      "\n"
     ]
    },
    {
     "name": "stdout",
     "output_type": "stream",
     "text": [
      "Generating output for Northern MWC Plot, Open Soil Replicate 2\n",
      "Generating output for events and bad events\n",
      "Writing output file data/NMWC_OS2_output_20.csv\n",
      "Doing calculations for data/NO UT3.csv\n",
      "Generating output for Northern O Plot, Under Tree Replicate 3\n",
      "Generating output for events and bad events\n",
      "Writing output file data/NO_UT3_output_20.csv\n",
      "Doing calculations for data/NO UT2.csv\n",
      "Generating output for Northern O Plot, Under Tree Replicate 2\n",
      "Generating output for events and bad events\n",
      "Writing output file data/NO_UT2_output_20.csv\n",
      "Doing calculations for data/NMWC OS1.csv\n",
      "Generating output for Northern MWC Plot, Open Soil Replicate 1\n",
      "Generating output for events and bad events\n",
      "Writing output file data/NMWC_OS1_output_20.csv\n"
     ]
    }
   ],
   "source": [
    "for data_file in data_files:\n",
    "    print(\"Doing calculations for {}\".format(data_file))\n",
    "    fluxbot = Fluxbot(filename=data_file)\n",
    "    print(\"Generating output for {}\".format(fluxbot.title))\n",
    "    fluxbot.generate_output(valid_only=False)\n",
    "    print(\"Writing output file {}\".format(fluxbot.output_filename))\n",
    "    fluxbot.write()"
   ]
  },
  {
   "cell_type": "markdown",
   "metadata": {},
   "source": [
    "## Testing Area for Single Fluxbot:\n",
    "\n",
    "The code below is to test the functionality for a single fluxbot."
   ]
  },
  {
   "cell_type": "code",
   "execution_count": null,
   "metadata": {},
   "outputs": [],
   "source": [
    "data_file = 'data/NO OS2.csv'\n",
    "fluxbot = Fluxbot(filename=data_file)"
   ]
  },
  {
   "cell_type": "code",
   "execution_count": null,
   "metadata": {},
   "outputs": [],
   "source": [
    "fluxbot.generate_output(valid_only=False)"
   ]
  },
  {
   "cell_type": "markdown",
   "metadata": {},
   "source": [
    "## Generate an `all_events.csv` file\n",
    "\n",
    "The code below reads in all the `output.csv` files in the data directory and appends them into a single, massive dataframe. We then export that dataframe into a new csv file."
   ]
  },
  {
   "cell_type": "code",
   "execution_count": null,
   "metadata": {},
   "outputs": [],
   "source": [
    "import glob\n",
    "output_files = glob.glob(\"{dir}/*output_20.csv\".format(dir='data'))\n",
    "print(output_files)\n",
    "\n",
    "df_list = []\n",
    "for file in output_files:\n",
    "    df = pd.read_csv(file)\n",
    "    df_list.append(df)\n",
    "\n",
    "all_output = pd.concat(df_list)\n",
    "all_output.to_csv('data/all_events_with_bad_20.csv', index=False)"
   ]
  },
  {
   "cell_type": "markdown",
   "metadata": {},
   "source": [
    "## Write function to export event data.\n",
    "\n",
    "This function will be in the `event` object, and will export a single row `DataFrame` with standard columns:\n",
    "\n",
    "- `timestamp`\n",
    "- `year`\n",
    "- `month`\n",
    "- `day`\n",
    "- `hour`\n",
    "- `avg_temp_degC`\n",
    "- `avg_pressure_hPa`\n",
    "- `avg_rel_humidity`\n",
    "- `ambient_CO2_kg`\n",
    "- `ambient_CO2_ppm`\n",
    "- `beta`\n",
    "- `duration`\n",
    "- `change_in_CO2_kg`\n",
    "- `1st_order_beta_0`\n",
    "- `1st_order_beta_0_error`\n",
    "- `1st_order_r_sq`\n",
    "- `2nd_order_beta_0`\n",
    "- `2nd_order_beta_0_error`\n",
    "- `2nd_order_beta_1`\n",
    "- `2nd_order_r_sq`\n",
    "- `flux_umol_m2_sec`\n",
    "- `flux_umol_m2_sec_error`\n",
    "- `qaqc_flags`\n",
    "\n",
    "- OPTIONAL: Include the `CO2_mass` data and `time` data used to do the regression fitting.\n",
    "\n",
    "The `event_output` function will be called from a `fluxbot_output` function. The `fluxbot_output` function will add the following columns to each `event`:\n",
    "\n",
    "- `data_file`\n",
    "- `fluxbot_hardware_version`\n",
    "- `fluxbot_software_version`\n",
    "- `chamber_volume_cm3`\n",
    "- `chamber_area_cm2`\n",
    "- `treatment`\n",
    "- `block`\n",
    "- `location`\n",
    "- `replicate`\n",
    "\n",
    "The `Fluxbot.write` function will create a single dataframe containing all these columns and one row per event for a fluxbot. The output will be written to a `.csv` file by default.\n",
    "\n",
    "Evnetually, there will also be a `Event.write` function, which will export a `.csv` file containing the parsed and smoothed data. This `.csv` file can then be subsequently read in using the `Event.read_csv` function.\n",
    "\n"
   ]
  }
 ],
 "metadata": {
  "kernelspec": {
   "display_name": "Python 3",
   "language": "python",
   "name": "python3"
  },
  "language_info": {
   "codemirror_mode": {
    "name": "ipython",
    "version": 3
   },
   "file_extension": ".py",
   "mimetype": "text/x-python",
   "name": "python",
   "nbconvert_exporter": "python",
   "pygments_lexer": "ipython3",
   "version": "3.6.7"
  }
 },
 "nbformat": 4,
 "nbformat_minor": 4
}
